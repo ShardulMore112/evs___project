{
 "cells": [
  {
   "cell_type": "code",
   "execution_count": 1,
   "metadata": {},
   "outputs": [],
   "source": [
    "import numpy as np\n",
    "from sklearn.linear_model import LinearRegression"
   ]
  },
  {
   "cell_type": "code",
   "execution_count": 2,
   "metadata": {},
   "outputs": [
    {
     "name": "stdout",
     "output_type": "stream",
     "text": [
      "The predicted value for annual so2 in akola for 2024 is: 15.53\n"
     ]
    }
   ],
   "source": [
    "# For AKOLA\n",
    "# Given data\n",
    "years = np.array([2018, 2019, 2020, 2021, 2022, 2023]).reshape(-1, 1)\n",
    "values = np.array([13, 15, 14, 14, 14, 16])\n",
    "\n",
    "# Initialize and fit the model\n",
    "model = LinearRegression()\n",
    "model.fit(years, values)\n",
    "\n",
    "# Predict the value for 2024\n",
    "predicted_value = model.predict(np.array([[2024]]))\n",
    "\n",
    "print(f\"The predicted value for annual so2 in akola for 2024 is: {predicted_value[0]:.2f}\")\n"
   ]
  },
  {
   "cell_type": "code",
   "execution_count": 3,
   "metadata": {},
   "outputs": [
    {
     "name": "stdout",
     "output_type": "stream",
     "text": [
      "The predicted value for annual SO2 in Ambernath for 2024 is: 17.07\n"
     ]
    }
   ],
   "source": [
    "# For Ambernath\n",
    "\n",
    "# Given data for Ambernath\n",
    "years = np.array([2018, 2019, 2020, 2021, 2022, 2023]).reshape(-1, 1)\n",
    "values = np.array([25, 27, 18, 20, 21, 19])\n",
    "\n",
    "# Initialize and fit the model\n",
    "model = LinearRegression()\n",
    "model.fit(years, values)\n",
    "\n",
    "# Predict the value for 2024\n",
    "predicted_value = model.predict(np.array([[2024]]))\n",
    "\n",
    "print(f\"The predicted value for annual SO2 in Ambernath for 2024 is: {predicted_value[0]:.2f}\")\n"
   ]
  },
  {
   "cell_type": "code",
   "execution_count": 4,
   "metadata": {},
   "outputs": [
    {
     "name": "stdout",
     "output_type": "stream",
     "text": [
      "The predicted value for annual SO2 in Amravati for 2024 is: 10.27\n"
     ]
    }
   ],
   "source": [
    "# For Amravati\n",
    "\n",
    "\n",
    "\n",
    "# Given data for Amravati\n",
    "years = np.array([2018, 2019, 2020, 2021, 2022, 2023]).reshape(-1, 1)\n",
    "values = np.array([15, 14, 14, 13, 13, 10])\n",
    "\n",
    "# Initialize and fit the model\n",
    "model = LinearRegression()\n",
    "model.fit(years, values)\n",
    "\n",
    "# Predict the value for 2024\n",
    "predicted_value = model.predict(np.array([[2024]]))\n",
    "\n",
    "print(f\"The predicted value for annual SO2 in Amravati for 2024 is: {predicted_value[0]:.2f}\")\n"
   ]
  },
  {
   "cell_type": "code",
   "execution_count": 5,
   "metadata": {},
   "outputs": [
    {
     "name": "stdout",
     "output_type": "stream",
     "text": [
      "The predicted value for annual SO2 in Aurangabad for 2024 is: 16.93\n"
     ]
    }
   ],
   "source": [
    "# For Aurangabad\n",
    "\n",
    "\n",
    "\n",
    "# Given data for Aurangabad\n",
    "years = np.array([2018, 2019, 2020, 2021, 2022, 2023]).reshape(-1, 1)\n",
    "values = np.array([14, 14, 19, 17, 15, 16])\n",
    "\n",
    "# Initialize and fit the model\n",
    "model = LinearRegression()\n",
    "model.fit(years, values)\n",
    "\n",
    "# Predict the value for 2024\n",
    "predicted_value = model.predict(np.array([[2024]]))\n",
    "\n",
    "print(f\"The predicted value for annual SO2 in Aurangabad for 2024 is: {predicted_value[0]:.2f}\")\n"
   ]
  },
  {
   "cell_type": "code",
   "execution_count": 6,
   "metadata": {},
   "outputs": [
    {
     "name": "stdout",
     "output_type": "stream",
     "text": [
      "The predicted value for annual SO2 in Badlapur for 2024 is: 20.13\n"
     ]
    }
   ],
   "source": [
    "# For Badlapur\n",
    "\n",
    "\n",
    "\n",
    "# Given data for Badlapur\n",
    "years = np.array([2018, 2019, 2020, 2021, 2022, 2023]).reshape(-1, 1)\n",
    "values = np.array([24, 27, 18, 21, 22, 22])\n",
    "\n",
    "# Initialize and fit the model\n",
    "model = LinearRegression()\n",
    "model.fit(years, values)\n",
    "\n",
    "# Predict the value for 2024\n",
    "predicted_value = model.predict(np.array([[2024]]))\n",
    "\n",
    "print(f\"The predicted value for annual SO2 in Badlapur for 2024 is: {predicted_value[0]:.2f}\")\n"
   ]
  },
  {
   "cell_type": "code",
   "execution_count": 7,
   "metadata": {},
   "outputs": [
    {
     "name": "stdout",
     "output_type": "stream",
     "text": [
      "The predicted value for annual SO2 in Bhiwandi for 2024 is: 28.27\n"
     ]
    }
   ],
   "source": [
    "\n",
    "\n",
    "# For Bhiwandi\n",
    "\n",
    "\n",
    "\n",
    "# Given data for Bhiwandi\n",
    "years = np.array([2018, 2019, 2020, 2021, 2022, 2023]).reshape(-1, 1)\n",
    "values = np.array([32, 32, 29, 29, 29, 30])\n",
    "\n",
    "# Initialize and fit the model\n",
    "model = LinearRegression()\n",
    "model.fit(years, values)\n",
    "\n",
    "# Predict the value for 2024\n",
    "predicted_value = model.predict(np.array([[2024]]))\n",
    "\n",
    "print(f\"The predicted value for annual SO2 in Bhiwandi for 2024 is: {predicted_value[0]:.2f}\")\n"
   ]
  },
  {
   "cell_type": "code",
   "execution_count": 8,
   "metadata": {},
   "outputs": [
    {
     "name": "stdout",
     "output_type": "stream",
     "text": [
      "The predicted value for annual SO2 in Chandrapur for 2024 is: 16.67\n"
     ]
    }
   ],
   "source": [
    "# For Chandrapur\n",
    "\n",
    "\n",
    "# Given data for Chandrapur\n",
    "years = np.array([2018, 2019, 2020, 2021, 2022, 2023]).reshape(-1, 1)\n",
    "values = np.array([4, 4, 4, 9, 14, 14])\n",
    "\n",
    "# Initialize and fit the model\n",
    "model = LinearRegression()\n",
    "model.fit(years, values)\n",
    "\n",
    "# Predict the value for 2024\n",
    "predicted_value = model.predict(np.array([[2024]]))\n",
    "\n",
    "print(f\"The predicted value for annual SO2 in Chandrapur for 2024 is: {predicted_value[0]:.2f}\")\n"
   ]
  },
  {
   "cell_type": "code",
   "execution_count": 9,
   "metadata": {},
   "outputs": [
    {
     "name": "stdout",
     "output_type": "stream",
     "text": [
      "The predicted value for annual SO2 in Dombivali for 2024 is: 21.67\n"
     ]
    }
   ],
   "source": [
    "# For Dombivali\n",
    "\n",
    "\n",
    "\n",
    "# Given data for Dombivli\n",
    "years = np.array([2018, 2019, 2020, 2021, 2022, 2023]).reshape(-1, 1)\n",
    "values = np.array([27, 27, 21, 29, 21, 23])\n",
    "\n",
    "# Initialize and fit the model\n",
    "model = LinearRegression()\n",
    "model.fit(years, values)\n",
    "\n",
    "# Predict the value for 2024\n",
    "predicted_value = model.predict(np.array([[2024]]))\n",
    "\n",
    "print(f\"The predicted value for annual SO2 in Dombivali for 2024 is: {predicted_value[0]:.2f}\")\n"
   ]
  },
  {
   "cell_type": "code",
   "execution_count": 10,
   "metadata": {},
   "outputs": [
    {
     "name": "stdout",
     "output_type": "stream",
     "text": [
      "The predicted value for annual SO2 in Jalgaon for 2024 is: 14.93\n"
     ]
    }
   ],
   "source": [
    "# For Jalgaon\n",
    "\n",
    "\n",
    "\n",
    "# Given data for Jalgaon\n",
    "years = np.array([2018, 2019, 2020, 2021, 2022, 2023]).reshape(-1, 1)\n",
    "values = np.array([13, 12, 11, 12, 12, 17])\n",
    "\n",
    "# Initialize and fit the model\n",
    "model = LinearRegression()\n",
    "model.fit(years, values)\n",
    "\n",
    "# Predict the value for 2024\n",
    "predicted_value = model.predict(np.array([[2024]]))\n",
    "\n",
    "print(f\"The predicted value for annual SO2 in Jalgaon for 2024 is: {predicted_value[0]:.2f}\")\n"
   ]
  },
  {
   "cell_type": "code",
   "execution_count": 11,
   "metadata": {},
   "outputs": [
    {
     "name": "stdout",
     "output_type": "stream",
     "text": [
      "The predicted value for annual SO2 in Jalna for 2024 is: 12.93\n"
     ]
    }
   ],
   "source": [
    "# For Jalna\n",
    "\n",
    "\n",
    "\n",
    "# Given data for Jalna\n",
    "years = np.array([2018, 2019, 2020, 2021, 2022, 2023]).reshape(-1, 1)\n",
    "values = np.array([11, 10, 9, 10, 10, 15])\n",
    "\n",
    "# Initialize and fit the model\n",
    "model = LinearRegression()\n",
    "model.fit(years, values)\n",
    "\n",
    "# Predict the value for 2024\n",
    "predicted_value = model.predict(np.array([[2024]]))\n",
    "\n",
    "print(f\"The predicted value for annual SO2 in Jalna for 2024 is: {predicted_value[0]:.2f}\")\n"
   ]
  },
  {
   "cell_type": "code",
   "execution_count": 12,
   "metadata": {},
   "outputs": [
    {
     "name": "stdout",
     "output_type": "stream",
     "text": [
      "The predicted value for annual SO2 in Kolhapur for 2024 is: 10.73\n"
     ]
    }
   ],
   "source": [
    "# For Kolhapur\n",
    "\n",
    "\n",
    "\n",
    "# Given data for Kolhapur\n",
    "years = np.array([2018, 2019, 2020, 2021, 2022, 2023]).reshape(-1, 1)\n",
    "values = np.array([27, 22, 24, 17, 14, 15])\n",
    "\n",
    "# Initialize and fit the model\n",
    "model = LinearRegression()\n",
    "model.fit(years, values)\n",
    "\n",
    "# Predict the value for 2024\n",
    "predicted_value = model.predict(np.array([[2024]]))\n",
    "\n",
    "print(f\"The predicted value for annual SO2 in Kolhapur for 2024 is: {predicted_value[0]:.2f}\")\n"
   ]
  },
  {
   "cell_type": "code",
   "execution_count": 13,
   "metadata": {},
   "outputs": [
    {
     "name": "stdout",
     "output_type": "stream",
     "text": [
      "The predicted value for annual SO2 in Latur for 2024 is: 9.60\n"
     ]
    }
   ],
   "source": [
    "# For Latur\n",
    "\n",
    "\n",
    "# Given data for Latur\n",
    "years = np.array([2018, 2019, 2020, 2021, 2022, 2023]).reshape(-1, 1)\n",
    "values = np.array([6, 5, 10, 7, 8, 9])\n",
    "\n",
    "# Initialize and fit the model\n",
    "model = LinearRegression()\n",
    "model.fit(years, values)\n",
    "\n",
    "# Predict the value for 2024\n",
    "predicted_value = model.predict(np.array([[2024]]))\n",
    "\n",
    "print(f\"The predicted value for annual SO2 in Latur for 2024 is: {predicted_value[0]:.2f}\")\n"
   ]
  },
  {
   "cell_type": "code",
   "execution_count": 14,
   "metadata": {},
   "outputs": [
    {
     "name": "stdout",
     "output_type": "stream",
     "text": [
      "The predicted value for annual SO2 in Mumbai for 2024 is: 21.73\n"
     ]
    }
   ],
   "source": [
    "# For Mumbai\n",
    "\n",
    "\n",
    "# Given data for Mumbai\n",
    "years = np.array([2018, 2019, 2020, 2021, 2022, 2023]).reshape(-1, 1)\n",
    "values = np.array([2, 2, 2, 14, 16, 17])\n",
    "\n",
    "# Initialize and fit the model\n",
    "model = LinearRegression()\n",
    "model.fit(years, values)\n",
    "\n",
    "# Predict the value for 2024\n",
    "predicted_value = model.predict(np.array([[2024]]))\n",
    "\n",
    "print(f\"The predicted value for annual SO2 in Mumbai for 2024 is: {predicted_value[0]:.2f}\")\n"
   ]
  },
  {
   "cell_type": "code",
   "execution_count": 15,
   "metadata": {},
   "outputs": [
    {
     "name": "stdout",
     "output_type": "stream",
     "text": [
      "The predicted value for annual SO2 in Nagpur for 2024 is: 10.20\n"
     ]
    }
   ],
   "source": [
    "# For Nagpur\n",
    "\n",
    "\n",
    "# Given data for Nagpur\n",
    "years = np.array([2018, 2019, 2020, 2021, 2022, 2023]).reshape(-1, 1)\n",
    "values = np.array([13, 14, 10, 10, 8, 14])\n",
    "\n",
    "# Initialize and fit the model\n",
    "model = LinearRegression()\n",
    "model.fit(years, values)\n",
    "\n",
    "# Predict the value for 2024\n",
    "predicted_value = model.predict(np.array([[2024]]))\n",
    "\n",
    "print(f\"The predicted value for annual SO2 in Nagpur for 2024 is: {predicted_value[0]:.2f}\")\n"
   ]
  },
  {
   "cell_type": "code",
   "execution_count": 16,
   "metadata": {},
   "outputs": [
    {
     "name": "stdout",
     "output_type": "stream",
     "text": [
      "The predicted value for annual SO2 in Nashik for 2024 is: 3.13\n"
     ]
    }
   ],
   "source": [
    "# For Nashik\n",
    "\n",
    "\n",
    "\n",
    "# Given data for Nashik\n",
    "years = np.array([2018, 2019, 2020, 2021, 2022, 2023]).reshape(-1, 1)\n",
    "values = np.array([12, 10, 6, 4, 5, 7])\n",
    "\n",
    "# Initialize and fit the model\n",
    "model = LinearRegression()\n",
    "model.fit(years, values)\n",
    "\n",
    "# Predict the value for 2024\n",
    "predicted_value = model.predict(np.array([[2024]]))\n",
    "\n",
    "print(f\"The predicted value for annual SO2 in Nashik for 2024 is: {predicted_value[0]:.2f}\")\n"
   ]
  },
  {
   "cell_type": "code",
   "execution_count": 17,
   "metadata": {},
   "outputs": [
    {
     "name": "stdout",
     "output_type": "stream",
     "text": [
      "The predicted value for annual SO2 in Navi Mumbai for 2024 is: 18.33\n"
     ]
    }
   ],
   "source": [
    "# For Navi Mumbai\n",
    "\n",
    "\n",
    "\n",
    "# Given data for Navi Mumbai\n",
    "years = np.array([2018, 2019, 2020, 2021, 2022, 2023]).reshape(-1, 1)\n",
    "values = np.array([20, 18, 14, 15, 21, 19])\n",
    "\n",
    "# Initialize and fit the model\n",
    "model = LinearRegression()\n",
    "model.fit(years, values)\n",
    "\n",
    "# Predict the value for 2024\n",
    "predicted_value = model.predict(np.array([[2024]]))\n",
    "\n",
    "print(f\"The predicted value for annual SO2 in Navi Mumbai for 2024 is: {predicted_value[0]:.2f}\")\n"
   ]
  },
  {
   "cell_type": "code",
   "execution_count": 18,
   "metadata": {},
   "outputs": [
    {
     "name": "stdout",
     "output_type": "stream",
     "text": [
      "The predicted value for annual SO2 in Pimpri Chinchwad for 2024 is: 11.20\n"
     ]
    }
   ],
   "source": [
    "# For Pimpri Chinchwad\n",
    "\n",
    "\n",
    "# Given data for Pimpri Chinchwad\n",
    "years = np.array([2018, 2019, 2020, 2021, 2022, 2023]).reshape(-1, 1)\n",
    "values = np.array([39, 28, 16, 21, 17, 20])\n",
    "\n",
    "# Initialize and fit the model\n",
    "model = LinearRegression()\n",
    "model.fit(years, values)\n",
    "\n",
    "# Predict the value for 2024\n",
    "predicted_value = model.predict(np.array([[2024]]))\n",
    "\n",
    "print(f\"The predicted value for annual SO2 in Pimpri Chinchwad for 2024 is: {predicted_value[0]:.2f}\")\n"
   ]
  },
  {
   "cell_type": "code",
   "execution_count": 19,
   "metadata": {},
   "outputs": [
    {
     "name": "stdout",
     "output_type": "stream",
     "text": [
      "The predicted value for annual SO2 in Pune for 2024 is: 29.47\n"
     ]
    }
   ],
   "source": [
    "# For Pune\n",
    "\n",
    "\n",
    "# Given data for Pune\n",
    "years = np.array([2018, 2019, 2020, 2021, 2022, 2023]).reshape(-1, 1)\n",
    "values = np.array([39, 46, 16, 26, 47, 28])\n",
    "\n",
    "# Initialize and fit the model\n",
    "model = LinearRegression()\n",
    "model.fit(years, values)\n",
    "\n",
    "# Predict the value for 2024\n",
    "predicted_value = model.predict(np.array([[2024]]))\n",
    "\n",
    "print(f\"The predicted value for annual SO2 in Pune for 2024 is: {predicted_value[0]:.2f}\")\n"
   ]
  },
  {
   "cell_type": "code",
   "execution_count": 20,
   "metadata": {},
   "outputs": [
    {
     "name": "stdout",
     "output_type": "stream",
     "text": [
      "The predicted value for annual SO2 in Sangli for 2024 is: 10.20\n"
     ]
    }
   ],
   "source": [
    "# For Sangli\n",
    "\n",
    "# Given data for Sangli\n",
    "years = np.array([2018, 2019, 2020, 2021, 2022, 2023]).reshape(-1, 1)\n",
    "values = np.array([11, 10, 9, 9, 9, 12])\n",
    "\n",
    "# Initialize and fit the model\n",
    "model = LinearRegression()\n",
    "model.fit(years, values)\n",
    "\n",
    "# Predict the value for 2024\n",
    "predicted_value = model.predict(np.array([[2024]]))\n",
    "\n",
    "print(f\"The predicted value for annual SO2 in Sangli for 2024 is: {predicted_value[0]:.2f}\")\n"
   ]
  },
  {
   "cell_type": "code",
   "execution_count": 21,
   "metadata": {},
   "outputs": [
    {
     "name": "stdout",
     "output_type": "stream",
     "text": [
      "The predicted value for annual SO2 in Solapur for 2024 is: 15.00\n"
     ]
    }
   ],
   "source": [
    "# For Solapur\n",
    "\n",
    "\n",
    "\n",
    "# Given data for Solapur\n",
    "years = np.array([2018, 2019, 2020, 2021, 2022, 2023]).reshape(-1, 1)\n",
    "values = np.array([16, 17, 19, 11, 18, 15])\n",
    "\n",
    "# Initialize and fit the model\n",
    "model = LinearRegression()\n",
    "model.fit(years, values)\n",
    "\n",
    "# Predict the value for 2024\n",
    "predicted_value = model.predict(np.array([[2024]]))\n",
    "\n",
    "print(f\"The predicted value for annual SO2 in Solapur for 2024 is: {predicted_value[0]:.2f}\")\n"
   ]
  },
  {
   "cell_type": "code",
   "execution_count": 22,
   "metadata": {},
   "outputs": [
    {
     "name": "stdout",
     "output_type": "stream",
     "text": [
      "The predicted value for annual SO2 in Thane for 2024 is: 18.00\n"
     ]
    }
   ],
   "source": [
    "# For Thane\n",
    "\n",
    "# Given data for Thane\n",
    "years = np.array([2018, 2019, 2020, 2021, 2022, 2023]).reshape(-1, 1)\n",
    "values = np.array([18, 21, 21, 11, 21, 19])\n",
    "\n",
    "# Initialize and fit the model\n",
    "model = LinearRegression()\n",
    "model.fit(years, values)\n",
    "\n",
    "# Predict the value for 2024\n",
    "predicted_value = model.predict(np.array([[2024]]))\n",
    "\n",
    "print(f\"The predicted value for annual SO2 in Thane for 2024 is: {predicted_value[0]:.2f}\")\n"
   ]
  },
  {
   "cell_type": "code",
   "execution_count": 23,
   "metadata": {},
   "outputs": [
    {
     "name": "stdout",
     "output_type": "stream",
     "text": [
      "The predicted value for annual SO2 in Ulhas Nagar for 2024 is: 16.27\n"
     ]
    }
   ],
   "source": [
    "# For Ulhas Nagar\n",
    "\n",
    "\n",
    "# Given data for Ulhas Nagar\n",
    "years = np.array([2018, 2019, 2020, 2021, 2022, 2023]).reshape(-1, 1)\n",
    "values = np.array([25, 27, 19, 21, 20, 18])\n",
    "\n",
    "# Initialize and fit the model\n",
    "model = LinearRegression()\n",
    "model.fit(years, values)\n",
    "\n",
    "# Predict the value for 2024\n",
    "predicted_value = model.predict(np.array([[2024]]))\n",
    "\n",
    "print(f\"The predicted value for annual SO2 in Ulhas Nagar for 2024 is: {predicted_value[0]:.2f}\")\n"
   ]
  }
 ],
 "metadata": {
  "kernelspec": {
   "display_name": "Python 3",
   "language": "python",
   "name": "python3"
  },
  "language_info": {
   "codemirror_mode": {
    "name": "ipython",
    "version": 3
   },
   "file_extension": ".py",
   "mimetype": "text/x-python",
   "name": "python",
   "nbconvert_exporter": "python",
   "pygments_lexer": "ipython3",
   "version": "3.12.3"
  }
 },
 "nbformat": 4,
 "nbformat_minor": 2
}
